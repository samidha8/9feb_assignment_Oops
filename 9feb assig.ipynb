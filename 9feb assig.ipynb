{
 "cells": [
  {
   "cell_type": "code",
   "execution_count": 38,
   "id": "eee3081d-6646-4ed9-afa2-d7cd727efc4f",
   "metadata": {},
   "outputs": [],
   "source": [
    "#Q1Create a vehicle class with an init method having instance variables as name_of_vehicle, max_speed,average_of_vehicle"
   ]
  },
  {
   "cell_type": "code",
   "execution_count": 4,
   "id": "7c22b2a1-9d3f-4149-b4d1-76cba9603c95",
   "metadata": {},
   "outputs": [],
   "source": [
    "class vehicle:\n",
    "    def __init__(self,name_as_vehicle,max_speed,average_of_vehicle):\n",
    "        self.name_as_vehicle= name_as_vehicle\n",
    "        self.max_speed =max_speed\n",
    "        self.average_of_vehicle = average_of_vehicle\n"
   ]
  },
  {
   "cell_type": "code",
   "execution_count": 5,
   "id": "613dac0f-3281-433b-9622-d6ee5bf113e6",
   "metadata": {},
   "outputs": [],
   "source": [
    "car = vehicle(\"creta\",200,100)"
   ]
  },
  {
   "cell_type": "code",
   "execution_count": 6,
   "id": "aeb1917c-67cd-4a6a-9c44-8c1815471299",
   "metadata": {},
   "outputs": [
    {
     "data": {
      "text/plain": [
       "100"
      ]
     },
     "execution_count": 6,
     "metadata": {},
     "output_type": "execute_result"
    }
   ],
   "source": [
    "car.average_of_vehicle"
   ]
  },
  {
   "cell_type": "code",
   "execution_count": 7,
   "id": "f064c50f-c5cf-42b5-b2ed-5ca71edaabba",
   "metadata": {},
   "outputs": [
    {
     "data": {
      "text/plain": [
       "'creta'"
      ]
     },
     "execution_count": 7,
     "metadata": {},
     "output_type": "execute_result"
    }
   ],
   "source": [
    "car.name_as_vehicle\n"
   ]
  },
  {
   "cell_type": "code",
   "execution_count": 24,
   "id": "2165d05e-4829-4c2a-83be-5a86307d46d0",
   "metadata": {},
   "outputs": [],
   "source": [
    "#Create a child class car from the vehicle class created in Que 1, which will inherit the vehicle class\n",
    "#Create a method named seating_capacity which takes capacity as an argument and returns the name of\n",
    "#the vehicle and its seating capacity..\n"
   ]
  },
  {
   "cell_type": "code",
   "execution_count": 1,
   "id": "2660d35e-5779-4f84-b0cf-e6ba09bc7abb",
   "metadata": {},
   "outputs": [],
   "source": [
    "#Q2Q2. Create a child class car from the vehicle class created in Que 1, which will inherit the vehicle class.\n",
    "#Create a method named seating_capacity which takes capacity as an argument and returns the name of\n",
    "#the vehicle and its seating capacity."
   ]
  },
  {
   "cell_type": "code",
   "execution_count": 15,
   "id": "07fa79c9-74d1-4e42-941c-b3899a694b9c",
   "metadata": {},
   "outputs": [],
   "source": [
    "#overriding eg\n",
    "class vehical:\n",
    "    def seating_capacity(self):\n",
    "        return'capacity of vehicle is 6'\n"
   ]
  },
  {
   "cell_type": "code",
   "execution_count": 16,
   "id": "32adba66-0079-4702-ac78-2eb76853ce1f",
   "metadata": {},
   "outputs": [],
   "source": [
    "class car(vehical):\n",
    "    def seating_capacity(self):\n",
    "        return 'capacity of vehicle is 10'"
   ]
  },
  {
   "cell_type": "code",
   "execution_count": 17,
   "id": "c1c17761-bddf-4ba2-b9be-6afd996ebf74",
   "metadata": {},
   "outputs": [],
   "source": [
    "creta=vehical()\n",
    "innova = car()"
   ]
  },
  {
   "cell_type": "code",
   "execution_count": 20,
   "id": "e7cae05b-0aae-4b9d-87b1-dfa7ef293c7e",
   "metadata": {},
   "outputs": [
    {
     "data": {
      "text/plain": [
       "'capacity of vehicle is 6'"
      ]
     },
     "execution_count": 20,
     "metadata": {},
     "output_type": "execute_result"
    }
   ],
   "source": [
    "creta.seating_capacity()"
   ]
  },
  {
   "cell_type": "code",
   "execution_count": 21,
   "id": "a14773e7-0c23-421b-a153-7864f19db29b",
   "metadata": {},
   "outputs": [
    {
     "data": {
      "text/plain": [
       "'capacity of vehicle is 10'"
      ]
     },
     "execution_count": 21,
     "metadata": {},
     "output_type": "execute_result"
    }
   ],
   "source": [
    "innova.seating_capacity()"
   ]
  },
  {
   "cell_type": "code",
   "execution_count": 25,
   "id": "732c2c8d-a679-4f90-b37a-6bcffa19e35b",
   "metadata": {},
   "outputs": [],
   "source": [
    "#Q3 What is multiple inheritance? Write a python code to demonstrate multiple inheritance."
   ]
  },
  {
   "cell_type": "code",
   "execution_count": null,
   "id": "23d6f704-0876-44f6-9696-f9b4a72fa1d6",
   "metadata": {},
   "outputs": [],
   "source": []
  },
  {
   "cell_type": "code",
   "execution_count": 26,
   "id": "3b88ab9a-d38e-4d1f-b09f-0f1a8535a518",
   "metadata": {},
   "outputs": [
    {
     "data": {
      "text/plain": [
       "'When a class is derived from more than one base class it is called multiple Inheritance. The derived class inherits all the features of the base case. Syntax: Class Base1: Body of the class Class Base2: Body of the class Class Derived(Base1, Base2): Body of the class.'"
      ]
     },
     "execution_count": 26,
     "metadata": {},
     "output_type": "execute_result"
    }
   ],
   "source": [
    "\"\"\"When a class is derived from more than one base class it is called multiple Inheritance. The derived class inherits all the features of the base case. Syntax: Class Base1: Body of the class Class Base2: Body of the class Class Derived(Base1, Base2): Body of the class.\"\"\""
   ]
  },
  {
   "cell_type": "code",
   "execution_count": 28,
   "id": "7c40c390-461c-41fd-a60c-a288d5d7e987",
   "metadata": {},
   "outputs": [],
   "source": [
    "class class1:\n",
    "    def sam_madam(self):\n",
    "        print(\"body of class1\")"
   ]
  },
  {
   "cell_type": "code",
   "execution_count": 29,
   "id": "9c6e9802-b3f8-4550-a7b0-c0a3bc34a7f3",
   "metadata": {},
   "outputs": [],
   "source": [
    "class class2:\n",
    "    def nehal_sir(self):\n",
    "        print(\"body of class2\")"
   ]
  },
  {
   "cell_type": "code",
   "execution_count": 30,
   "id": "80304e9f-0f13-4d5f-bbb0-a61112771487",
   "metadata": {},
   "outputs": [],
   "source": [
    "class class3(class1,class2):\n",
    "    pass"
   ]
  },
  {
   "cell_type": "code",
   "execution_count": 31,
   "id": "d6c5b458-a9e2-485f-a921-5a552c921c44",
   "metadata": {},
   "outputs": [],
   "source": [
    "stud1= class3()"
   ]
  },
  {
   "cell_type": "code",
   "execution_count": 33,
   "id": "aaa5d997-d694-4aa0-942d-6b516e5ec3e0",
   "metadata": {},
   "outputs": [
    {
     "name": "stdout",
     "output_type": "stream",
     "text": [
      "body of class2\n"
     ]
    }
   ],
   "source": [
    "stud1.nehal_sir()"
   ]
  },
  {
   "cell_type": "code",
   "execution_count": 34,
   "id": "b212e398-55b4-4815-a437-6b2648a4d49e",
   "metadata": {},
   "outputs": [
    {
     "name": "stdout",
     "output_type": "stream",
     "text": [
      "body of class1\n"
     ]
    }
   ],
   "source": [
    "stud1.sam_madam()"
   ]
  },
  {
   "cell_type": "code",
   "execution_count": 35,
   "id": "1f2f5073-793c-4823-b75c-f4441a9174f3",
   "metadata": {},
   "outputs": [],
   "source": [
    "stud2= class3()"
   ]
  },
  {
   "cell_type": "code",
   "execution_count": 36,
   "id": "0d191a5a-fed2-47ef-9cfe-a09c0b79a1dd",
   "metadata": {},
   "outputs": [
    {
     "name": "stdout",
     "output_type": "stream",
     "text": [
      "body of class2\n"
     ]
    }
   ],
   "source": [
    "stud2.nehal_sir()"
   ]
  },
  {
   "cell_type": "code",
   "execution_count": null,
   "id": "cabf1b68-d1b0-4168-8347-9f366e9a2d4b",
   "metadata": {},
   "outputs": [],
   "source": [
    "#Q4. What are getter and setter in python? Create a class and create a getter and a setter method in this\n",
    "class."
   ]
  },
  {
   "cell_type": "code",
   "execution_count": null,
   "id": "e6cbda8a-6c0d-47ae-82bc-4ad36db16abb",
   "metadata": {},
   "outputs": [],
   "source": [
    "# Setter: A method that allows you to set or mutate the value of an attribute in a class\n",
    "# Getter: A method that allows you to access an attribute in a given class. "
   ]
  },
  {
   "cell_type": "code",
   "execution_count": 39,
   "id": "ed10f673-fe48-4ca8-a015-8c54fa004be4",
   "metadata": {},
   "outputs": [],
   "source": [
    "class year_of_graduation:\n",
    "    def __init__(self, year=2021,batch=2018,hod='sheeja'):\n",
    "        self.__year=year\n",
    "        self.__batch=batch\n",
    "        self.__hod = hod\n",
    "    def set_year(self,a,b,c):\n",
    "        self.__year = a\n",
    "        self.__batch= b\n",
    "        self.__hod =c\n",
    "    \n",
    "    def get_year(self):\n",
    "        return (self.__year, self.__batch,self.__hod)"
   ]
  },
  {
   "cell_type": "code",
   "execution_count": 46,
   "id": "663e70e4-c5ec-4fda-9d15-c96b6ecf325a",
   "metadata": {},
   "outputs": [],
   "source": [
    "grad_object= year_of_graduation()"
   ]
  },
  {
   "cell_type": "code",
   "execution_count": 47,
   "id": "9a232941-2849-49d0-aace-d7d363492e85",
   "metadata": {},
   "outputs": [],
   "source": [
    "grad_object.set_year(2014,2016,'pooja')"
   ]
  },
  {
   "cell_type": "code",
   "execution_count": 50,
   "id": "2a6e4f91-dbf2-4d7a-a1b0-0a00c5673fd0",
   "metadata": {},
   "outputs": [
    {
     "data": {
      "text/plain": [
       "2014"
      ]
     },
     "execution_count": 50,
     "metadata": {},
     "output_type": "execute_result"
    }
   ],
   "source": [
    "grad_object._year_of_graduation__year"
   ]
  },
  {
   "cell_type": "code",
   "execution_count": 51,
   "id": "47681638-e725-4a4c-b476-863cadbffeb8",
   "metadata": {},
   "outputs": [
    {
     "data": {
      "text/plain": [
       "2016"
      ]
     },
     "execution_count": 51,
     "metadata": {},
     "output_type": "execute_result"
    }
   ],
   "source": [
    "grad_object._year_of_graduation__batch\n"
   ]
  },
  {
   "cell_type": "code",
   "execution_count": 52,
   "id": "6a3ea141-dd49-450f-ae94-32079f245efa",
   "metadata": {},
   "outputs": [
    {
     "data": {
      "text/plain": [
       "'pooja'"
      ]
     },
     "execution_count": 52,
     "metadata": {},
     "output_type": "execute_result"
    }
   ],
   "source": [
    "grad_object._year_of_graduation__hod"
   ]
  },
  {
   "cell_type": "code",
   "execution_count": 60,
   "id": "23cdbc02-fdb2-4153-b058-1700ee08e91e",
   "metadata": {},
   "outputs": [],
   "source": [
    "#another object\n",
    "grad_xyz= year_of_graduation()"
   ]
  },
  {
   "cell_type": "code",
   "execution_count": 61,
   "id": "f4a408a4-2f82-4c8b-9e30-18f079f12f25",
   "metadata": {},
   "outputs": [],
   "source": [
    "grad_xyz.set_year(2000,2010,'heena')"
   ]
  },
  {
   "cell_type": "code",
   "execution_count": 64,
   "id": "564b4714-901f-440a-b970-acab2d17a74d",
   "metadata": {},
   "outputs": [
    {
     "data": {
      "text/plain": [
       "'heena'"
      ]
     },
     "execution_count": 64,
     "metadata": {},
     "output_type": "execute_result"
    }
   ],
   "source": [
    "grad_xyz._year_of_graduation__hod"
   ]
  },
  {
   "cell_type": "code",
   "execution_count": 37,
   "id": "f44aaf89-0ce8-40f3-b08a-29ec13fd7198",
   "metadata": {},
   "outputs": [],
   "source": [
    "#Q5.What is method overriding in python? Write a python code to demonstrate method overriding."
   ]
  },
  {
   "cell_type": "code",
   "execution_count": null,
   "id": "87c83733-9375-4097-82d5-7596b7b73f19",
   "metadata": {},
   "outputs": [],
   "source": [
    "#In overriding subclassmay change the functinality of a python method in the superclass\n",
    "#child clas can chnage functionality of parent class which update it's qualities"
   ]
  },
  {
   "cell_type": "code",
   "execution_count": 10,
   "id": "1301f313-8f1b-470a-ae77-daf60e435270",
   "metadata": {},
   "outputs": [],
   "source": [
    "# eg of overriding- parent class 'animal' child class'bird'\n",
    "class animal:\n",
    "    def breath(self):\n",
    "        print(\"i breath oxygen\")\n",
    "    def feed(self):\n",
    "        print(\"i eat meat\")\n",
    "class bird(animal):\n",
    "    def breath(self):\n",
    "        print(\"i breath o2 \")\n",
    "    def feed(self):\n",
    "        print(\"i eat peru\")"
   ]
  },
  {
   "cell_type": "code",
   "execution_count": 11,
   "id": "5dd6ee85-6c92-42b6-8fe5-71d732c39367",
   "metadata": {},
   "outputs": [],
   "source": [
    "def ani_bir(a):\n",
    "    for i in a:\n",
    "        i.breath\n",
    "        i.feed"
   ]
  },
  {
   "cell_type": "code",
   "execution_count": 12,
   "id": "a4a61c65-e5fe-4bb0-b115-d8c43bf08b5f",
   "metadata": {},
   "outputs": [],
   "source": [
    "dog=animal()"
   ]
  },
  {
   "cell_type": "code",
   "execution_count": 13,
   "id": "171f7990-9bd9-4662-8aa0-f09cbb154948",
   "metadata": {},
   "outputs": [
    {
     "name": "stdout",
     "output_type": "stream",
     "text": [
      "i breath oxygen\n"
     ]
    }
   ],
   "source": [
    "dog.breath()"
   ]
  },
  {
   "cell_type": "code",
   "execution_count": 14,
   "id": "68bf77ed-b099-4ed3-bea3-408a56e78520",
   "metadata": {},
   "outputs": [
    {
     "name": "stdout",
     "output_type": "stream",
     "text": [
      "i eat meat\n"
     ]
    }
   ],
   "source": [
    "dog.feed()"
   ]
  },
  {
   "cell_type": "code",
   "execution_count": 15,
   "id": "7eeaa97e-561e-450b-815d-5384e532aa9f",
   "metadata": {},
   "outputs": [],
   "source": [
    "parrot= bird()\n"
   ]
  },
  {
   "cell_type": "code",
   "execution_count": 16,
   "id": "351ec841-e181-4dfc-9bf4-d02cb5a2cf41",
   "metadata": {},
   "outputs": [
    {
     "name": "stdout",
     "output_type": "stream",
     "text": [
      "i breath o2 \n"
     ]
    }
   ],
   "source": [
    "parrot.breath()"
   ]
  },
  {
   "cell_type": "code",
   "execution_count": 17,
   "id": "d93f04ce-ab74-4bcb-b1fd-8af857375bdb",
   "metadata": {},
   "outputs": [
    {
     "name": "stdout",
     "output_type": "stream",
     "text": [
      "i eat peru\n"
     ]
    }
   ],
   "source": [
    "parrot.feed()"
   ]
  },
  {
   "cell_type": "code",
   "execution_count": null,
   "id": "0f8dfe7a-0293-42df-bf40-0bb73263b0ba",
   "metadata": {},
   "outputs": [],
   "source": []
  }
 ],
 "metadata": {
  "kernelspec": {
   "display_name": "Python 3 (ipykernel)",
   "language": "python",
   "name": "python3"
  },
  "language_info": {
   "codemirror_mode": {
    "name": "ipython",
    "version": 3
   },
   "file_extension": ".py",
   "mimetype": "text/x-python",
   "name": "python",
   "nbconvert_exporter": "python",
   "pygments_lexer": "ipython3",
   "version": "3.10.8"
  }
 },
 "nbformat": 4,
 "nbformat_minor": 5
}
